{
 "cells": [
  {
   "cell_type": "markdown",
   "metadata": {},
   "source": [
    "# Criando modelos de Machine Learning com dados do INMET\n",
    "\n",
    "Notebook criado para dar continuidade ao trabalho com os dados do INMET.\n",
    "Após feita a análise exploratória, tentarei criar modelos de Machine Learning utilizando a biblioteca scikit.\n",
    "(https://scikit-learn.org/stable/)  \n",
    "\n",
    "Esses modelos serão criados com o intuito de tentar realizar previsões das temperaturas máximas e mínimas.  \n",
    "Os mesmos serão analisados e o que tiver a menor taxa de erro será escolhido para ser utilizado.\n",
    "\n",
    "Aqui irei utilizar o último DataFrame criado durante a fase de Análise Exploratória: temperatura_data_separada, que foi salvo no arquivo \"temperatura_data_separada.csv\"."
   ]
  },
  {
   "cell_type": "code",
   "execution_count": 30,
   "metadata": {},
   "outputs": [
    {
     "data": {
      "text/html": [
       "<div>\n",
       "<style scoped>\n",
       "    .dataframe tbody tr th:only-of-type {\n",
       "        vertical-align: middle;\n",
       "    }\n",
       "\n",
       "    .dataframe tbody tr th {\n",
       "        vertical-align: top;\n",
       "    }\n",
       "\n",
       "    .dataframe thead th {\n",
       "        text-align: right;\n",
       "    }\n",
       "</style>\n",
       "<table border=\"1\" class=\"dataframe\">\n",
       "  <thead>\n",
       "    <tr style=\"text-align: right;\">\n",
       "      <th></th>\n",
       "      <th>data</th>\n",
       "      <th>maxima</th>\n",
       "      <th>minima</th>\n",
       "      <th>estacao</th>\n",
       "      <th>ano</th>\n",
       "      <th>mes</th>\n",
       "      <th>dia_do_mes</th>\n",
       "      <th>dia_do_ano</th>\n",
       "    </tr>\n",
       "  </thead>\n",
       "  <tbody>\n",
       "    <tr>\n",
       "      <th>0</th>\n",
       "      <td>1961-01-01</td>\n",
       "      <td>30.0</td>\n",
       "      <td>14.1</td>\n",
       "      <td>verao</td>\n",
       "      <td>1961</td>\n",
       "      <td>1</td>\n",
       "      <td>1</td>\n",
       "      <td>1</td>\n",
       "    </tr>\n",
       "    <tr>\n",
       "      <th>1</th>\n",
       "      <td>1961-01-02</td>\n",
       "      <td>29.6</td>\n",
       "      <td>14.0</td>\n",
       "      <td>verao</td>\n",
       "      <td>1961</td>\n",
       "      <td>1</td>\n",
       "      <td>2</td>\n",
       "      <td>2</td>\n",
       "    </tr>\n",
       "    <tr>\n",
       "      <th>2</th>\n",
       "      <td>1961-01-03</td>\n",
       "      <td>31.1</td>\n",
       "      <td>13.9</td>\n",
       "      <td>verao</td>\n",
       "      <td>1961</td>\n",
       "      <td>1</td>\n",
       "      <td>3</td>\n",
       "      <td>3</td>\n",
       "    </tr>\n",
       "    <tr>\n",
       "      <th>3</th>\n",
       "      <td>1961-01-04</td>\n",
       "      <td>30.8</td>\n",
       "      <td>14.6</td>\n",
       "      <td>verao</td>\n",
       "      <td>1961</td>\n",
       "      <td>1</td>\n",
       "      <td>4</td>\n",
       "      <td>4</td>\n",
       "    </tr>\n",
       "    <tr>\n",
       "      <th>4</th>\n",
       "      <td>1961-01-05</td>\n",
       "      <td>29.3</td>\n",
       "      <td>13.7</td>\n",
       "      <td>verao</td>\n",
       "      <td>1961</td>\n",
       "      <td>1</td>\n",
       "      <td>5</td>\n",
       "      <td>5</td>\n",
       "    </tr>\n",
       "  </tbody>\n",
       "</table>\n",
       "</div>"
      ],
      "text/plain": [
       "         data  maxima  minima estacao   ano  mes  dia_do_mes  dia_do_ano\n",
       "0  1961-01-01    30.0    14.1   verao  1961    1           1           1\n",
       "1  1961-01-02    29.6    14.0   verao  1961    1           2           2\n",
       "2  1961-01-03    31.1    13.9   verao  1961    1           3           3\n",
       "3  1961-01-04    30.8    14.6   verao  1961    1           4           4\n",
       "4  1961-01-05    29.3    13.7   verao  1961    1           5           5"
      ]
     },
     "execution_count": 30,
     "metadata": {},
     "output_type": "execute_result"
    }
   ],
   "source": [
    "import pandas as pd\n",
    "\n",
    "dados = pd.read_csv(\"notebooks/csv/temperatura_data_separada.csv\")\n",
    "dados.head()"
   ]
  },
  {
   "cell_type": "code",
   "execution_count": null,
   "metadata": {},
   "outputs": [],
   "source": []
  },
  {
   "cell_type": "code",
   "execution_count": null,
   "metadata": {},
   "outputs": [],
   "source": []
  }
 ],
 "metadata": {
  "kernelspec": {
   "display_name": "Python 3",
   "language": "python",
   "name": "python3"
  },
  "language_info": {
   "codemirror_mode": {
    "name": "ipython",
    "version": 3
   },
   "file_extension": ".py",
   "mimetype": "text/x-python",
   "name": "python",
   "nbconvert_exporter": "python",
   "pygments_lexer": "ipython3",
   "version": "3.8.2"
  }
 },
 "nbformat": 4,
 "nbformat_minor": 4
}
